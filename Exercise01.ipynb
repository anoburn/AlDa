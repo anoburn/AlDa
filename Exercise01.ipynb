{
 "cells": [
  {
   "cell_type": "markdown",
   "metadata": {},
   "source": [
    "Before you turn this problem in, make sure everything runs as expected. First, **restart the kernel** (in the menubar, select Kernel$\\rightarrow$Restart) and then **run all cells** (in the menubar, select Cell$\\rightarrow$Run All).\n",
    "\n",
    "Make sure you fill in any place that says `YOUR CODE HERE` or \"YOUR ANSWER HERE\", as well as your name and collaborators below:"
   ]
  },
  {
   "cell_type": "code",
   "execution_count": 1,
   "metadata": {
    "collapsed": true
   },
   "outputs": [],
   "source": [
    "NAME = \"Stephen Schaumann\"\n",
    "COLLABORATORS = \"Simon Heming\""
   ]
  },
  {
   "cell_type": "markdown",
   "metadata": {},
   "source": [
    "---"
   ]
  },
  {
   "cell_type": "markdown",
   "metadata": {
    "deletable": false,
    "editable": false,
    "nbgrader": {
     "checksum": "407db7a967f21968288f9de94633f8f0",
     "grade": false,
     "grade_id": "Header",
     "locked": true,
     "schema_version": 1,
     "solution": false
    }
   },
   "source": [
    "# Introduction\n",
    "\n",
    "In this exercise you will be learning the basics of programing with python and Jupyter (formerly iPython) Notebooks (Tasks 1 and 2) and algorithmic thinking (Tasks 3 and 4).\n",
    "\n",
    "The exercises of this lecture will be using Jupyter in combination with the nbgrader extension. Each exercise will contain tasks that are to be answered in free text or with source code. The source code should adhere to PEP-8 style guidelines and should be commented so that the tutor understands what you are doing (points may be deducted in both cases). In some cases, a source answer cell might be followed by a Python unittest. If this test fails, you might not get points. On the other hand, if it succeeds you might not either (in case you try to cheat the test):\n",
    "\n",
    "```python\n",
    "\tdef pythagoras(a, b):\n",
    "\t\treturn 5\n",
    "\n",
    "\tassert pythagoras(3, 4) == 5\n",
    "```"
   ]
  },
  {
   "cell_type": "markdown",
   "metadata": {
    "deletable": false,
    "editable": false,
    "nbgrader": {
     "checksum": "7bf781909eafdff12234adf99212e8e0",
     "grade": false,
     "grade_id": "Task1_Text",
     "locked": true,
     "schema_version": 1,
     "solution": false
    }
   },
   "source": [
    "# Introduction to Jupyter Notebooks and Python (7 Pts.)\n",
    " \n",
    "> The Jupyter Notebook is an open-source web application that allows you to create and share documents that contain live code, equations, visualizations and narrative text. Uses include: data cleaning and transformation, numerical simulation, statistical modeling, data visualization, machine learning, and much more. - https://jupyter.org/index.html\n",
    "\n",
    "1. Install Python 3.5 or higher with Jupyter (<http://jupyter.org/install>)\n",
    "\t- Suggestion for Windows: Use Anaconda\n",
    "\t- Suggestion for Linux-OSes: Use a virtual environment and pip\n",
    "1. (Optional but highly recommended) Work through chapters 3, 4, 5, 7.2, 8 und 9.3 to get a first look at python. Chapters 4.7, 5.1.3, 5.1.4, 5.6, 5.7 and 5.8 may be skipped. Furthermore, have a look at <docs.python.org/library/index.html> to get an overview of built-in packages. Use this notebook as a scratch pad by inserting a new cell below.\n",
    "\n"
   ]
  },
  {
   "cell_type": "markdown",
   "metadata": {
    "deletable": false,
    "editable": false,
    "nbgrader": {
     "checksum": "a39d607d8b1000e8596b1a3eae71f500",
     "grade": false,
     "grade_id": "cell-e01bb25742507347",
     "locked": true,
     "schema_version": 1,
     "solution": false
    }
   },
   "source": [
    "## Answer the following questions\n",
    "(Answer in the markdown cell, refer to code in the following code cell.)\n",
    "1. In which module can the function `sqrt()` be found?\n",
    "1. What happens when `sqrt()` is called with a negative number?\n",
    "1. Implement two functions `mysqrt()` that prints *`mysqrt()` does not work with negative numbers, you fool.* when it is called with a negative number, and the result in the other case.\n",
    "    * Use `if: … else:`\n",
    "    * Use `try: … except:`\n",
    "1. Implement a loop that prints `i mod 5 = <result>` for `i = [-10..10]` and explain the result of the modulo operation.\n",
    "1. When should a string be enclosed in triple quotes?\n",
    "1. What is the difference between the classes `dict` and `list`?\n",
    "1. What is the purpose of the `__init__()` function of a class and how is it used?\n"
   ]
  },
  {
   "cell_type": "markdown",
   "metadata": {
    "deletable": false,
    "nbgrader": {
     "checksum": "c5ccbe3d3a12e55e844acbf0917efc12",
     "grade": true,
     "grade_id": "cell-1f1f5d99b4ea02f9",
     "locked": false,
     "points": 7,
     "schema_version": 1,
     "solution": true
    }
   },
   "source": [
    "1. There is a function `sqrt()` in the numpy module and the math module\n",
    "1. `ValueError: math domain error`\n",
    "1. -\n",
    "1. \n",
    "1. A string in triple quotes is used when defining a function to describe what it does (docstring)\n",
    "1. A `dict` uses keys with which you can access it's content. A `list` only has indices.\n",
    "7. `__init__()`is called when an instance of the corresponding class is initialized and is used to define default values"
   ]
  },
  {
   "cell_type": "code",
   "execution_count": 2,
   "metadata": {
    "collapsed": false,
    "deletable": false,
    "nbgrader": {
     "checksum": "489a21a3d9c252aa9d1794b7881cef3c",
     "grade": true,
     "grade_id": "cell-aa57d5b55494c658",
     "locked": false,
     "points": 7,
     "schema_version": 1,
     "solution": true
    }
   },
   "outputs": [
    {
     "name": "stdout",
     "output_type": "stream",
     "text": [
      "2.0\n",
      "mysqrt() does not work with negative numbers, you fool\n",
      "2.0\n",
      "mysqrt() does not work with negative numbers, you fool\n",
      "0\n",
      "1\n",
      "2\n",
      "3\n",
      "4\n",
      "0\n",
      "1\n",
      "2\n",
      "3\n",
      "4\n",
      "0\n",
      "1\n",
      "2\n",
      "3\n",
      "4\n",
      "0\n",
      "1\n",
      "2\n",
      "3\n",
      "4\n",
      "0\n"
     ]
    }
   ],
   "source": [
    "import math\n",
    "\n",
    "def mysqrt1(x):\n",
    "    if(x < 0):\n",
    "        print(\"mysqrt() does not work with negative numbers, you fool\")\n",
    "    else:\n",
    "        print(math.sqrt(x))\n",
    "\n",
    "\n",
    "def mysqrt2(x):\n",
    "    try:\n",
    "        print(math.sqrt(x))\n",
    "    except:\n",
    "        print(\"mysqrt() does not work with negative numbers, you fool\")\n",
    "\n",
    "        \n",
    "mysqrt1(4)\n",
    "mysqrt1(-4)\n",
    "mysqrt2(4)\n",
    "mysqrt2(-4)\n",
    "\n",
    "\n",
    "for i in range(-10,11):\n",
    "    print(i % 5)"
   ]
  },
  {
   "cell_type": "markdown",
   "metadata": {
    "deletable": false,
    "editable": false,
    "nbgrader": {
     "checksum": "6c608c0a730e4253da550b158a7a6410",
     "grade": false,
     "grade_id": "cell-eb3404cd5417d941",
     "locked": true,
     "schema_version": 1,
     "solution": false
    }
   },
   "source": [
    "# Sieve of Eratosthenes (6 Pts.)\n",
    "Implement the [Sieve](https://en.wiktionary.org/wiki/sieve) of Eratosthenes used to find prime numbers (To be found on the internet). Make the tests pass.\n",
    "\n",
    "```python\n",
    "sieve(n)  # print all primes below n.\n",
    "```"
   ]
  },
  {
   "cell_type": "code",
   "execution_count": 5,
   "metadata": {
    "collapsed": false,
    "deletable": false,
    "nbgrader": {
     "checksum": "43148b7f93e43c9a8996deb769318d6d",
     "grade": false,
     "grade_id": "sieve",
     "locked": false,
     "schema_version": 1,
     "solution": true
    }
   },
   "outputs": [],
   "source": [
    "from math import sqrt\n",
    "from math import ceil\n",
    "\n",
    "\n",
    "def sieve(n):\n",
    "    \"\"\"Compute and return all prime numbers below n+1\"\"\"\n",
    "    if(n<2):\n",
    "        raise ValueError(\"There are no prime numbers smaller than 2\")\n",
    "    schranke = ceil(sqrt(n))\n",
    "    possible = list(range(2, n+1))\n",
    "    prime = []\n",
    "    for i in range(2, schranke+1):\n",
    "        if(i in possible):\n",
    "            for j in range(2*i, n+1, i):\n",
    "                if(j in possible):\n",
    "                    possible.remove(j)\n",
    "    return possible"
   ]
  },
  {
   "cell_type": "code",
   "execution_count": 6,
   "metadata": {
    "collapsed": false,
    "deletable": false,
    "editable": false,
    "nbgrader": {
     "checksum": "0e48544eef1a3b929c1961e02282b626",
     "grade": true,
     "grade_id": "test_sieve_values",
     "locked": true,
     "points": 3,
     "schema_version": 1,
     "solution": false
    }
   },
   "outputs": [],
   "source": [
    "assert sieve(2) == [2]\n",
    "assert sieve(3) == [2, 3]\n",
    "assert sieve(4) == [2, 3]\n",
    "assert sieve(5) == [2, 3, 5]\n"
   ]
  },
  {
   "cell_type": "code",
   "execution_count": 7,
   "metadata": {
    "collapsed": false,
    "deletable": false,
    "editable": false,
    "nbgrader": {
     "checksum": "9f60b497fbe8aaec985e94d4ac835768",
     "grade": true,
     "grade_id": "test_sieve_invalid_input",
     "locked": true,
     "points": 3,
     "schema_version": 1,
     "solution": false
    }
   },
   "outputs": [],
   "source": [
    "try:\n",
    "    sieve(0)\n",
    "except ValueError:\n",
    "    pass\n",
    "else:\n",
    "    raise AssertionError(\"Did not raise\")\n",
    "    \n",
    "try:\n",
    "    sieve(-4)\n",
    "except ValueError:\n",
    "    pass\n",
    "else:\n",
    "    raise AssertionError(\"Did not raise\")\n"
   ]
  },
  {
   "cell_type": "markdown",
   "metadata": {
    "deletable": false,
    "editable": false,
    "nbgrader": {
     "checksum": "8fec0c7810a636534b07623f8dd0209f",
     "grade": false,
     "grade_id": "Aufgabe1",
     "locked": true,
     "schema_version": 1,
     "solution": false
    }
   },
   "source": [
    "# Friday 13th (8 Pts.)\n",
    "\n",
    "Once every few month there will be a Friday 13th, but how often does this event actually occur?\n",
    "\n",
    "1. How many possible weekday - date combinations are possible? (Don’t forget leap years)\n",
    "1. Determine how many Friday 13th you have experienced in your life\n"
   ]
  },
  {
   "cell_type": "markdown",
   "metadata": {
    "deletable": false,
    "nbgrader": {
     "checksum": "f2bf05d30c52701bb124f1dbf960bc9e",
     "grade": true,
     "grade_id": "Antwort1",
     "locked": false,
     "points": 8,
     "schema_version": 1,
     "solution": true
    }
   },
   "source": [
    "YOUR ANSWER HERE"
   ]
  },
  {
   "cell_type": "markdown",
   "metadata": {
    "deletable": false,
    "editable": false,
    "nbgrader": {
     "checksum": "497974a03dd108fecfabe06a7098202b",
     "grade": false,
     "grade_id": "Aufgabe2",
     "locked": true,
     "schema_version": 1,
     "solution": false
    }
   },
   "source": [
    "# Stable Glasses (12 Pts.)\n",
    "Glases in pubs are prone to breaking. Therefore, more stable glasses are being developed. To evaluate the stability of a new kind of glas, the following experiment is being done: Platforms that allow a controlled fall of a glass can be attached to a 3 m high stand with possible platform positions every 10 cm. The goal of this experiment is to find the highest possible fall height for a glass not to shatter with as few tries as possible. One try is defined as one fall of a glass off a platform. Another constraint is the number of available glasses which means only a certain amount of glasses may break.\n",
    "\n",
    "1. How do you determine the height of fall in case only one glass is at hand? How many tries are needed at most (explain). From an algorithmic standpoint, this is the worst case, for pubs the best case.\n",
    "1. It is possible to use fewer tries to reach the goal if more glasses may break. What is the process in this case, how many tries are needed at most and how many glasses are broken at most?\n",
    "1. A compromise is to allow two glasses to break. Which process minimizes the number of tries in the worst case scenario in this test case and how many tries will be needed in the worst case? (Hint: less than 15)\n",
    "1. Generalize your result from 3. s.t. the stand has `n` possible platform position. The process remains the same but the number of tries in the worst case is now a function `worst_case(n)`. Determine the function! Since the the number of tries is aways an integer, the function is a step function: The results for certain intervals may be the same until it increases by one only to be constant again for a few more steps. For `n=30`, the result should be the same as in 3."
   ]
  },
  {
   "cell_type": "markdown",
   "metadata": {
    "deletable": false,
    "nbgrader": {
     "checksum": "34f477c71a0282eb95765f8566b649a4",
     "grade": true,
     "grade_id": "Antwort2",
     "locked": false,
     "points": 10,
     "schema_version": 1,
     "solution": true
    }
   },
   "source": [
    "1. One starts at the lowest position. If the glass doesn't break, move up one position and try again, until the glass breaks. This can take up to 30 tries, if the glass doesn't break at all and survives every possible fall of the test setup.\n",
    "2. If multiple glasses can break one can start in the middle. If the glass breaks, repeat recursively in the lower half. If it doesn't break repeat in the upper half. This way 5 glasses are broken at most"
   ]
  },
  {
   "cell_type": "code",
   "execution_count": 8,
   "metadata": {
    "collapsed": true,
    "deletable": false,
    "nbgrader": {
     "checksum": "a5bcdd45a54336990269fb9acca8e84c",
     "grade": false,
     "grade_id": "cell-a2426d9a7636bfde",
     "locked": false,
     "schema_version": 1,
     "solution": true
    }
   },
   "outputs": [],
   "source": [
    "from math import ceil, sqrt, floor\n",
    "\n",
    "def worst_case(n):\n",
    "    \"\"\"Compute worst case.\"\"\"\n",
    "    # YOUR CODE HERE\n",
    "    raise NotImplementedError()\n"
   ]
  },
  {
   "cell_type": "code",
   "execution_count": null,
   "metadata": {
    "collapsed": true,
    "deletable": false,
    "editable": false,
    "nbgrader": {
     "checksum": "ae86293548e34545585833b8e006941d",
     "grade": true,
     "grade_id": "cell-f80d4f8640c3d48e",
     "locked": true,
     "points": 2,
     "schema_version": 1,
     "solution": false
    }
   },
   "outputs": [],
   "source": [
    "try:\n",
    "    worst_case(0)\n",
    "except ValueError:\n",
    "    pass\n",
    "else:\n",
    "    raise AssertionError(\"Did not raise\")\n"
   ]
  },
  {
   "cell_type": "code",
   "execution_count": null,
   "metadata": {
    "collapsed": true
   },
   "outputs": [],
   "source": []
  }
 ],
 "metadata": {
  "anaconda-cloud": {},
  "kernelspec": {
   "display_name": "Python [Root]",
   "language": "python",
   "name": "Python [Root]"
  },
  "language_info": {
   "codemirror_mode": {
    "name": "ipython",
    "version": 3
   },
   "file_extension": ".py",
   "mimetype": "text/x-python",
   "name": "python",
   "nbconvert_exporter": "python",
   "pygments_lexer": "ipython3",
   "version": "3.5.2"
  }
 },
 "nbformat": 4,
 "nbformat_minor": 2
}
