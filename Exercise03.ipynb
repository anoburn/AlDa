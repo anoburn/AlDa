{
 "cells": [
  {
   "cell_type": "markdown",
   "metadata": {},
   "source": [
    "Before you turn this problem in, make sure everything runs as expected. First, **restart the kernel** (in the menubar, select Kernel$\\rightarrow$Restart) and then **run all cells** (in the menubar, select Cell$\\rightarrow$Run All).\n",
    "\n",
    "Make sure you fill in any place that says `YOUR CODE HERE` or \"YOUR ANSWER HERE\", as well as your name and collaborators below:"
   ]
  },
  {
   "cell_type": "code",
   "execution_count": 1,
   "metadata": {
    "collapsed": true
   },
   "outputs": [],
   "source": [
    "NAME = \"Stephen Schaumann\"\n",
    "COLLABORATORS = \"Simon Heming\""
   ]
  },
  {
   "cell_type": "markdown",
   "metadata": {},
   "source": [
    "---"
   ]
  },
  {
   "cell_type": "markdown",
   "metadata": {
    "deletable": false,
    "editable": false,
    "nbgrader": {
     "checksum": "044b7da3cb3fbfe32325e5edefdab89b",
     "grade": false,
     "grade_id": "cell-ffa71f6b669da86c",
     "locked": true,
     "schema_version": 1,
     "solution": false
    }
   },
   "source": [
    "#  Einleitung\n",
    "In dieser Aufgabe soll Ihr Verständnis von Sortieralgorithmen gestärkt werden. Stellen Sie sicher, dass sie das Archiv samt Test-Dateien heruntergeladen und in einen Unterordner `test_cases` extrahiert haben (Quelle: http://blog.quibb.org/2008/11/sort-optimization/). Öffnen Sie den Ordner und schauen Sie sich den Schema an, nachdem die Dateien benannt sind.\n",
    "\n",
    "\n"
   ]
  },
  {
   "cell_type": "markdown",
   "metadata": {
    "deletable": false,
    "editable": false,
    "nbgrader": {
     "checksum": "f9d496e697ccc50c6d60558e59ee5904",
     "grade": false,
     "grade_id": "cell-f56609ca84e81010",
     "locked": true,
     "schema_version": 1,
     "solution": false
    }
   },
   "source": [
    "# Sortierverfahren implementieren (6⋅4 Pkt.)\n",
    "Implementieren Sie folgende Sortieralgorithmen.\n",
    "\n",
    "- Selectionsort\n",
    "- Insertionsort\n",
    "- Quicksort\n",
    "- Bubblesort\n",
    "- Mergesort\n",
    "- Heapsort\n",
    "\n",
    "Die Sortieralgorithmen sollen eine sortierte Kopie der ursprünglichen Liste zurück geben und das Original nicht verändern (damit das Verhalten kongruent zu `sorted()`) ist.\n"
   ]
  },
  {
   "cell_type": "code",
   "execution_count": 2,
   "metadata": {
    "collapsed": true,
    "deletable": false,
    "nbgrader": {
     "checksum": "cca8cf639b18c7118b37ad05ef48402a",
     "grade": false,
     "grade_id": "cell-6d812715dbe509ce",
     "locked": false,
     "schema_version": 1,
     "solution": true
    }
   },
   "outputs": [],
   "source": [
    "from copy import deepcopy\n",
    "\n",
    "def selectionsort(data):\n",
    "    N = len(data)\n",
    "    sorted = deepcopy(data)\n",
    "    for i in range(N):\n",
    "        minimum = i\n",
    "        for k in range(i + 1, N):\n",
    "            if sorted[k] < sorted[minimum]:\n",
    "                minimum = k\n",
    "        sorted[i], sorted[minimum] = sorted[minimum], sorted[i]\n",
    "    return sorted\n",
    "\n",
    "\n",
    "def insertionsort(data):\n",
    "    sorted = [data[0]]\n",
    "    N = len(data)\n",
    "    for i in range(1, N):\n",
    "        j = i-1\n",
    "        while(j >= 0 and data[i] < sorted[j]):\n",
    "            j -= 1\n",
    "        sorted.insert(j+1, data[i])\n",
    "    return sorted        \n",
    "\n",
    "\n",
    "def bubblesort(data):\n",
    "    sorted = deepcopy(data)\n",
    "    N = len(data)    \n",
    "    for i in range(N):\n",
    "        for j in range(N-i-1):\n",
    "            if(sorted[j] > sorted[j+1]):\n",
    "                sorted[j], sorted[j+1] = sorted[j+1], sorted[j]\n",
    "    return sorted\n",
    "\n",
    "\n",
    "def quicksort(data):\n",
    "    def partition(data, l, r):\n",
    "        '''Partitions data in the range from l to r, returning position of pivot'''\n",
    "        i, j = l+1, r\n",
    "        p_init = l\n",
    "        pivot = data[p_init]\n",
    "        \n",
    "        while(True):\n",
    "            while(i < r and data[i] <= pivot):\n",
    "                i += 1\n",
    "            while(j > l and data[j] >= pivot):\n",
    "                j -= 1\n",
    "            if(i >= j):\n",
    "                break\n",
    "            data[i], data[j] = data[j], data[i]\n",
    "            \n",
    "        #p = l\n",
    "        #while(p <= r):\n",
    "        #    if(pivot < data[p]):\n",
    "        #        break\n",
    "        #    p += 1\n",
    "        #p -= 1\n",
    "        p = j\n",
    "        data[p], data[p_init] = data[p_init], data[p]\n",
    "        return p\n",
    "    \n",
    "    def quicksort_rec(data, l, r):\n",
    "        if(r > l):\n",
    "            i = partition(data, l, r)\n",
    "            quicksort_rec(data, l, i-1)\n",
    "            quicksort_rec(data, i+1, r)\n",
    "        \n",
    "    sorted = list(data)\n",
    "    quicksort_rec(sorted, 0, len(sorted)-1)\n",
    "    return sorted\n",
    "\n",
    "def quicksort(a):\n",
    "    data = list(a)\n",
    "    quicksort_impl(data, 0, len(data) - 1)\n",
    "    return data\n",
    "    \n",
    "def quicksort_impl(a, l, r):\n",
    "    if r > l: # if r <= l everything is sorted -> list has zero to one elements\n",
    "        i = partition(a, l, r)\n",
    "        quicksort_impl(a, l, i - 1)\n",
    "        quicksort_impl(a, i + 1, r)\n",
    "    \n",
    "def partition(a, l, r):\n",
    "    \"\"\"\n",
    "        This is the core of quicksort - a good pivot element can\n",
    "        speed up the whole process, a bad one will slow it down.\n",
    "        Here we will sort everything according to the selected pivot.\n",
    "        Everything left of the pivot should be less of the pivor,\n",
    "        everything on the right bigger.\n",
    "    \"\"\"\n",
    "    pivot = a[r] # pivot is now the right end - in most cases this is not perfect\n",
    "    i, j = l, r - 1\n",
    "    while True:\n",
    "        # search from left. find first element bigger than pivot\n",
    "        while i < r and a[i] <= pivot:\n",
    "            i += 1\n",
    "        # search from right. find first element smaller than pivot\n",
    "        while j > l and a[j] >= pivot:\n",
    "            j -= 1\n",
    "            \n",
    "        if j <= i: # index of the left side is now on the right side\n",
    "            break  # everything on the left side is smaller and on the\n",
    "                   # right side bigger than pivot\n",
    "        a[i], a[j] = a[j], a[i] # swap out of order elements\n",
    "        \n",
    "    # because of a[i] >= pivot must the final position of a[i] on the rightside\n",
    "    # of the pivot, and because a[j] <= pivot and i >= j is i the final position\n",
    "    # of the pivot element\n",
    "    a[r] = a[i]\n",
    "    a[i] = pivot # move pivot to its position\n",
    "    return i\n",
    "\n",
    "\n",
    "def heapsort(data):\n",
    "    def parent(i):\n",
    "        return (i-1)//2\n",
    "    def left_child(i):\n",
    "        return 2*i+1\n",
    "    def right_child(i):\n",
    "        return 2*i+2\n",
    "    \n",
    "    def sink(heap, i):\n",
    "        node = i\n",
    "        while(left_child(node) < len(heap)):\n",
    "            swap = node\n",
    "            if(heap[left_child(node)] > heap[node]):\n",
    "                swap = left_child(node)\n",
    "            if(right_child(node) < len(heap)):\n",
    "                if(heap[right_child(node)] > heap[swap]):\n",
    "                    swap = right_child(node)\n",
    "            if(swap == node):\n",
    "                return\n",
    "            else:\n",
    "                heap[swap], heap[node] = heap[node], heap[swap]\n",
    "                node = swap\n",
    "    \n",
    "    N = len(data)\n",
    "    heap = deepcopy(data)\n",
    "    \n",
    "    #heapify\n",
    "    start = parent(N-1)\n",
    "    while(start >= 0):\n",
    "        sink(heap, start)\n",
    "        start -= 1\n",
    "        \n",
    "    #return sorted list\n",
    "    sorted = []\n",
    "    for i in range(N-1):\n",
    "        sorted.insert(0, heap[0])\n",
    "        heap[0] = heap.pop()\n",
    "        sink(heap, 0)\n",
    "    sorted.insert(0, heap[0])\n",
    "        \n",
    "    return sorted\n",
    "\n",
    "    \n",
    "def mergesort(data):\n",
    "    N = len(data)\n",
    "    \n",
    "    if(N <= 1):\n",
    "        return data\n",
    "    \n",
    "    def merge(x, y):\n",
    "        merged = []\n",
    "        while(len(x) != 0 and len(y) != 0):\n",
    "            if(x[0] < y[0]):\n",
    "                merged.append(x.pop(0))\n",
    "            else:\n",
    "                merged.append(y.pop(0))\n",
    "        merged += x + y\n",
    "        return merged\n",
    "    \n",
    "    left  = mergesort(data[:N//2])\n",
    "    right = mergesort(data[N//2:])\n",
    "    result = merge(left, right)\n",
    "    return result\n"
   ]
  },
  {
   "cell_type": "code",
   "execution_count": 3,
   "metadata": {
    "collapsed": true,
    "deletable": false,
    "editable": false,
    "nbgrader": {
     "checksum": "601dcd441a8a65d90b4cbddcc0f59c1e",
     "grade": true,
     "grade_id": "cell-848f5caf61f83589",
     "locked": true,
     "points": 0,
     "schema_version": 1,
     "solution": false
    }
   },
   "outputs": [],
   "source": [
    "import random\n",
    "\n",
    "SAMPLE_LIST = random.sample(range(100), 30)\n",
    "\n",
    "def test_algorithm(algorithm):\n",
    "    sample_list = SAMPLE_LIST[:]\n",
    "    assert algorithm(sample_list) == sorted(sample_list), \"{} did not sort the list\".format(algorithm.__name__)\n",
    "    assert sample_list == SAMPLE_LIST, \"{} altered the original\".format(algorithm.__name__)"
   ]
  },
  {
   "cell_type": "code",
   "execution_count": 4,
   "metadata": {
    "collapsed": false,
    "deletable": false,
    "editable": false,
    "nbgrader": {
     "checksum": "f93a3075f68b4d3e0358fa08335c181a",
     "grade": true,
     "grade_id": "cell-87b11519e17f1c63",
     "locked": true,
     "points": 4,
     "schema_version": 1,
     "solution": false
    }
   },
   "outputs": [],
   "source": [
    "test_algorithm(selectionsort)"
   ]
  },
  {
   "cell_type": "code",
   "execution_count": 5,
   "metadata": {
    "collapsed": false,
    "deletable": false,
    "editable": false,
    "nbgrader": {
     "checksum": "28b1445d75d1e7d9443b380352f68461",
     "grade": true,
     "grade_id": "cell-24cfee0a571db291",
     "locked": true,
     "points": 4,
     "schema_version": 1,
     "solution": false
    }
   },
   "outputs": [],
   "source": [
    "test_algorithm(insertionsort)"
   ]
  },
  {
   "cell_type": "code",
   "execution_count": 6,
   "metadata": {
    "collapsed": true,
    "deletable": false,
    "editable": false,
    "nbgrader": {
     "checksum": "38c72c4193b159c90abf9b5efa9f02b0",
     "grade": true,
     "grade_id": "cell-78ffe6f52e47fc47",
     "locked": true,
     "points": 4,
     "schema_version": 1,
     "solution": false
    }
   },
   "outputs": [],
   "source": [
    "test_algorithm(bubblesort)"
   ]
  },
  {
   "cell_type": "code",
   "execution_count": 7,
   "metadata": {
    "collapsed": false,
    "deletable": false,
    "editable": false,
    "nbgrader": {
     "checksum": "755e50222934b2036f872a96ae3d309c",
     "grade": true,
     "grade_id": "cell-e60d068bfdb9cdde",
     "locked": true,
     "points": 4,
     "schema_version": 1,
     "solution": false
    }
   },
   "outputs": [],
   "source": [
    "test_algorithm(quicksort)"
   ]
  },
  {
   "cell_type": "code",
   "execution_count": 8,
   "metadata": {
    "collapsed": false,
    "deletable": false,
    "editable": false,
    "nbgrader": {
     "checksum": "d0e12c8899111de36bd45aeb27f7cea9",
     "grade": true,
     "grade_id": "cell-037297fb44664ec1",
     "locked": true,
     "points": 4,
     "schema_version": 1,
     "solution": false
    }
   },
   "outputs": [],
   "source": [
    "test_algorithm(heapsort)"
   ]
  },
  {
   "cell_type": "code",
   "execution_count": 9,
   "metadata": {
    "collapsed": false,
    "deletable": false,
    "editable": false,
    "nbgrader": {
     "checksum": "4f34e7554f9bb8de9bd2148e3c6232b3",
     "grade": true,
     "grade_id": "cell-96e6149464b940df",
     "locked": true,
     "points": 4,
     "schema_version": 1,
     "solution": false
    }
   },
   "outputs": [],
   "source": [
    "test_algorithm(mergesort)"
   ]
  },
  {
   "cell_type": "markdown",
   "metadata": {
    "deletable": false,
    "editable": false,
    "nbgrader": {
     "checksum": "601327d4999fee3744c2a024a4a079cb",
     "grade": false,
     "grade_id": "cell-84426cd680519ec2",
     "locked": true,
     "schema_version": 1,
     "solution": false
    }
   },
   "source": [
    "# Einlesen von Dateien (4 Pkt.)\n",
    "Schreiben sie eine Funktion `load_test_cases(path)`, die zu den zur Verfügung gestellten Testfällen jeweils die Datei mit 10e3 Einträgen lädt."
   ]
  },
  {
   "cell_type": "code",
   "execution_count": 10,
   "metadata": {
    "collapsed": false,
    "deletable": false,
    "nbgrader": {
     "checksum": "66401d0e72aeca9ae57ce9cad9ec7c4e",
     "grade": false,
     "grade_id": "cell-d64d799097780639",
     "locked": false,
     "schema_version": 1,
     "solution": true
    }
   },
   "outputs": [],
   "source": [
    "from glob import glob\n",
    "\n",
    "\n",
    "TEST_CASE_PATH = 'D:\\\\Dropbox\\\\Studium\\\\IAD\\\\exercises\\\\exercise3\\\\test_files'\n",
    "\n",
    "def load_test_cases(path):\n",
    "    data_dir = glob(path + '\\\\*')\n",
    "    find = '.10000.txt'\n",
    "    data = {}\n",
    "    for file in data_dir:\n",
    "        if find in file:\n",
    "            file_name = file.split('\\\\')[-1]\n",
    "            key_name = '.'.join(file_name.split('.')[0:-2])\n",
    "            txt_data = []\n",
    "            with open(file) as f:\n",
    "                for line in f:\n",
    "                    txt_data.append(int(line))\n",
    "            data[key_name] = txt_data\n",
    "    return data"
   ]
  },
  {
   "cell_type": "code",
   "execution_count": 11,
   "metadata": {
    "collapsed": false,
    "deletable": false,
    "editable": false,
    "nbgrader": {
     "checksum": "c1a5b3116037576c278430d102fbf85d",
     "grade": true,
     "grade_id": "cell-6b64b68014341d9a",
     "locked": true,
     "points": 4,
     "schema_version": 1,
     "solution": false
    }
   },
   "outputs": [],
   "source": [
    "import unittest\n",
    "\n",
    "unittest_test_case = unittest.TestCase('__init__')\n",
    "\n",
    "loaded_test_cases = load_test_cases(TEST_CASE_PATH)\n",
    "available_test_cases = ['1245.repeat', 'end.0', 'identical', 'med.3.killer', 'rand.dups', 'rand.no.dups', 'rand.steps', \n",
    "                        'rev.ends', 'rev.partial', 'rev.saw', 'reverse', 'seq.0.is.1000', 'seq.partial', 'seq.saw', 'sequential']\n",
    "\n",
    "unittest_test_case.assertCountEqual(loaded_test_cases.keys(), available_test_cases)\n",
    "\n",
    "for key, value in loaded_test_cases.items():\n",
    "    assert len(value) == 10e3, \"Number of testcases mismatch for {}\".format(key)"
   ]
  },
  {
   "cell_type": "markdown",
   "metadata": {
    "deletable": false,
    "editable": false,
    "nbgrader": {
     "checksum": "4f402817feb6972f192b5d138043f40e",
     "grade": false,
     "grade_id": "cell-47b900000dd01232",
     "locked": true,
     "schema_version": 1,
     "solution": false
    }
   },
   "source": [
    "# Sortierverfahren testen (12 Pkt.)\n",
    " Vergleichen Sie die Sortierverfahren untereinander und mit der Python Funktion `sorted()`\n",
    " - Benutzen sie `result = %timeit -n 100 -r 3 -o` um die Ausführung zu messen und das Ergebnis in einer Variablen speichern zu können. Auf das beste Ergebnis können Sie mit `result.best` zugreifen.\n",
    " - Gruppieren Sie die Ergebnisse nach Testfall.\n",
    " - Testen sie folgende „Splices“ Ihres Testdatensatzes: `x_values = [10, 20, 50, 100, 200, 500, 1000, 2000, 5000, 10000]`\n",
    " - Stellen sie die Ergebnisse mittels Tabelle und Graphen mit Titel und Achsenbeschriftung dar (Matplotlib).\n",
    " - Bewerten Sie das Ergebnis"
   ]
  },
  {
   "cell_type": "code",
   "execution_count": null,
   "metadata": {
    "collapsed": false,
    "deletable": false,
    "nbgrader": {
     "checksum": "375f9afd6886b3e231c120827997b8dc",
     "grade": true,
     "grade_id": "cell-584a475079bfa4bd",
     "locked": false,
     "points": 12,
     "schema_version": 1,
     "solution": true
    }
   },
   "outputs": [
    {
     "name": "stdout",
     "output_type": "stream",
     "text": [
      "Starting  1245.repeat\n",
      "<function selectionsort at 0x000001B87B781158>\n",
      "10 loops, best of 3: 19.9 µs per loop\n",
      "10 loops, best of 3: 40.3 µs per loop\n",
      "10 loops, best of 3: 156 µs per loop\n",
      "10 loops, best of 3: 518 µs per loop\n",
      "10 loops, best of 3: 1.82 ms per loop\n",
      "10 loops, best of 3: 10.9 ms per loop\n",
      "10 loops, best of 3: 44.3 ms per loop\n",
      "10 loops, best of 3: 170 ms per loop\n",
      "10 loops, best of 3: 1.07 s per loop\n",
      "10 loops, best of 3: 4.25 s per loop\n",
      "<function insertionsort at 0x000001B87B7811E0>\n",
      "10 loops, best of 3: 5.34 µs per loop\n",
      "10 loops, best of 3: 13.6 µs per loop\n",
      "10 loops, best of 3: 68.5 µs per loop\n",
      "10 loops, best of 3: 241 µs per loop\n",
      "10 loops, best of 3: 924 µs per loop\n",
      "10 loops, best of 3: 5.77 ms per loop\n",
      "10 loops, best of 3: 23 ms per loop\n",
      "10 loops, best of 3: 92.9 ms per loop\n",
      "10 loops, best of 3: 582 ms per loop\n",
      "10 loops, best of 3: 2.32 s per loop\n",
      "<function bubblesort at 0x000001B87B781268>\n",
      "10 loops, best of 3: 20.9 µs per loop\n",
      "10 loops, best of 3: 46.4 µs per loop\n",
      "10 loops, best of 3: 221 µs per loop\n",
      "10 loops, best of 3: 784 µs per loop\n",
      "10 loops, best of 3: 2.99 ms per loop\n",
      "10 loops, best of 3: 18.8 ms per loop\n",
      "10 loops, best of 3: 78.8 ms per loop\n",
      "10 loops, best of 3: 312 ms per loop\n",
      "10 loops, best of 3: 1.98 s per loop\n",
      "10 loops, best of 3: 8.01 s per loop\n",
      "<function heapsort at 0x000001B87B781488>\n",
      "10 loops, best of 3: 38.5 µs per loop\n",
      "10 loops, best of 3: 90 µs per loop\n",
      "10 loops, best of 3: 281 µs per loop\n",
      "10 loops, best of 3: 616 µs per loop\n",
      "10 loops, best of 3: 1.35 ms per loop\n",
      "10 loops, best of 3: 4.15 ms per loop\n",
      "10 loops, best of 3: 9.69 ms per loop\n",
      "10 loops, best of 3: 21.6 ms per loop\n",
      "10 loops, best of 3: 60.4 ms per loop\n",
      "10 loops, best of 3: 139 ms per loop\n",
      "<function mergesort at 0x000001B87B781598>\n",
      "10 loops, best of 3: 20.4 µs per loop\n",
      "10 loops, best of 3: 48.3 µs per loop\n",
      "10 loops, best of 3: 148 µs per loop\n",
      "10 loops, best of 3: 344 µs per loop\n",
      "10 loops, best of 3: 789 µs per loop\n",
      "10 loops, best of 3: 2.17 ms per loop\n",
      "10 loops, best of 3: 4.75 ms per loop\n",
      "10 loops, best of 3: 10.7 ms per loop\n",
      "10 loops, best of 3: 32.5 ms per loop\n",
      "10 loops, best of 3: 72.6 ms per loop\n",
      "Starting  end.0\n",
      "<function selectionsort at 0x000001B87B781158>\n",
      "10 loops, best of 3: 16.6 µs per loop\n",
      "10 loops, best of 3: 39.7 µs per loop\n",
      "10 loops, best of 3: 162 µs per loop\n",
      "10 loops, best of 3: 539 µs per loop\n",
      "10 loops, best of 3: 1.84 ms per loop\n",
      "10 loops, best of 3: 11.6 ms per loop\n",
      "10 loops, best of 3: 43.1 ms per loop\n",
      "10 loops, best of 3: 172 ms per loop\n",
      "10 loops, best of 3: 1.04 s per loop\n"
     ]
    }
   ],
   "source": [
    "# for quicksort\n",
    "import sys\n",
    "import numpy as np\n",
    "sys.setrecursionlimit(20000)\n",
    "\n",
    "data = load_test_cases(TEST_CASE_PATH)\n",
    "algorithmen = [selectionsort, insertionsort, bubblesort, quicksort, heapsort, mergesort]\n",
    "algorithmen = [quicksort]\n",
    "algorithmen = [selectionsort, insertionsort, bubblesort, heapsort, mergesort]\n",
    "ergebnisse = {}\n",
    "\n",
    "x_values = [10, 20, 50, 100, 200, 500, 1000, 2000, 5000, 10000]\n",
    "\n",
    "for case in loaded_test_cases:\n",
    "    print(\"Starting \", case)\n",
    "    case_dict = {}\n",
    "    for algorithmus in algorithmen:\n",
    "        print(str(algorithmus))\n",
    "        times = np.empty(len(x_values))\n",
    "        for i,x in enumerate(x_values):\n",
    "            working_data = data[case][:x]\n",
    "            result = %timeit -n 10 -r 3 -o algorithmus(working_data)\n",
    "            times[i] = result.best\n",
    "        case_dict[algorithmus] = times\n",
    "    np.save(\"case_dict_\"+str(case)+\".npy\", case_dict)\n",
    "    ergebnisse[case] = case_dict\n",
    "    \n",
    "            \n",
    "np.save(\"ergebnisse.npy\", ergebnisse)"
   ]
  },
  {
   "cell_type": "code",
   "execution_count": null,
   "metadata": {
    "collapsed": true
   },
   "outputs": [],
   "source": [
    "import matplotlib.pyplot as plt\n",
    "\n",
    "x_values = [10, 20, 50, 100, 200, 500, 1000, 2000, 5000, 10000]\n",
    "\n",
    "daten = np.load(\"case_dict_1245.repeat.npy\")\n",
    "for key, value in daten.items():\n",
    "    plt.plot(x_values, value, label=str(key))\n",
    "    plt.legend()\n",
    "    plt.show()"
   ]
  }
 ],
 "metadata": {
  "kernelspec": {
   "display_name": "Python 3",
   "language": "python",
   "name": "python3"
  },
  "language_info": {
   "codemirror_mode": {
    "name": "ipython",
    "version": 3
   },
   "file_extension": ".py",
   "mimetype": "text/x-python",
   "name": "python",
   "nbconvert_exporter": "python",
   "pygments_lexer": "ipython3",
   "version": "3.6.0"
  }
 },
 "nbformat": 4,
 "nbformat_minor": 2
}
